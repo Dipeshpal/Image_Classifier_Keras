{
  "nbformat": 4,
  "nbformat_minor": 0,
  "metadata": {
    "colab": {
      "name": "keras_predict.ipynb",
      "version": "0.3.2",
      "provenance": []
    },
    "kernelspec": {
      "name": "python3",
      "display_name": "Python 3"
    }
  },
  "cells": [
    {
      "cell_type": "markdown",
      "metadata": {
        "id": "r1qS6fD9VOtR",
        "colab_type": "text"
      },
      "source": [
        "# Predict images by loading model in Keras"
      ]
    },
    {
      "cell_type": "code",
      "metadata": {
        "id": "5DoSm2l-VIh8",
        "colab_type": "code",
        "colab": {}
      },
      "source": [
        "from tensorflow.keras.models import load_model\n",
        "import numpy as np\n",
        "import cv2\n",
        "import os\n",
        "import matplotlib.pyplot as plt\n",
        "\n",
        "\n",
        "def decode_predictions(prediction):\n",
        "    dict1 = {0: 'Affenpinscher', 1: 'Afghan_Hound', 2: 'African_Hunting_Dog', 3: 'Airedale',\n",
        "             4: 'American_Staffordshire_Terrier', 5: 'Appenzeller', 6: 'Australian_Terrier', 7: 'Basenji', 8: 'Basset',\n",
        "             9: 'Beagle', 10: 'Bedlington_Terrier', 11: 'Bernese_Mountain_Dog', 12: 'Black-And-Tan_Coonhound',\n",
        "             13: 'Blenheim_Spaniel', 14: 'Bloodhound', 15: 'Bluetick', 16: 'Border_Collie', 17: 'Border_Terrier',\n",
        "             18: 'Borzoi', 19: 'Boston_Bull', 20: 'Bouvier_Des_Flandres', 21: 'Boxer', 22: 'Brabancon_Griffon',\n",
        "             23: 'Briard', 24: 'Brittany_Spaniel', 25: 'Bull_Mastiff', 26: 'Cairn', 27: 'Cardigan',\n",
        "             28: 'Chesapeake_Bay_Retriever', 29: 'Chihuahua', 30: 'Chow', 31: 'Clumber', 32: 'Cocker_Spaniel',\n",
        "             33: 'Collie',\n",
        "             34: 'Curly-Coated_Retriever', 35: 'Dandie_Dinmont', 36: 'Dhole', 37: 'Dingo', 38: 'Doberman',\n",
        "             39: 'English_Foxhound', 40: 'English_Setter', 41: 'English_Springer', 42: 'Entlebucher', 43: 'Eskimo_Dog',\n",
        "             44: 'Flat-Coated_Retriever', 45: 'French_Bulldog', 46: 'German_Shepherd',\n",
        "             47: 'German_Short-Haired_Pointer',\n",
        "             48: 'Giant_Schnauzer', 49: 'Golden_Retriever', 50: 'Gordon_Setter', 51: 'Greater_Swiss_Mountain_Dog',\n",
        "             52: 'Great_Dane', 53: 'Great_Pyrenees', 54: 'Groenendael', 55: 'Ibizan_Hound', 56: 'Irish_Setter',\n",
        "             57: 'Irish_Terrier', 58: 'Irish_Water_Spaniel', 59: 'Irish_Wolfhound', 60: 'Italian_Greyhound',\n",
        "             61: 'Japanese_Spaniel', 62: 'Keeshond', 63: 'Kelpie', 64: 'Kerry_Blue_Terrier', 65: 'Komondor',\n",
        "             66: 'Kuvasz',\n",
        "             67: 'Labrador_Retriever', 68: 'Lakeland_Terrier', 69: 'Leonberg', 70: 'Lhasa', 71: 'Malamute',\n",
        "             72: 'Malinois',\n",
        "             73: 'Maltese_Dog', 74: 'Mexican_Hairless', 75: 'Miniature_Pinscher', 76: 'Miniature_Poodle',\n",
        "             77: 'Miniature_Schnauzer', 78: 'Newfoundland', 79: 'Norfolk_Terrier', 80: 'Norwegian_Elkhound',\n",
        "             81: 'Norwich_Terrier', 82: 'Old_English_Sheepdog', 83: 'Otterhound', 84: 'Papillon', 85: 'Pekinese',\n",
        "             86: 'Pembroke', 87: 'Pomeranian', 88: 'Pug', 89: 'Redbone', 90: 'Rhodesian_Ridgeback', 91: 'Rottweiler',\n",
        "             92: 'Saint_Bernard', 93: 'Saluki', 94: 'Samoyed', 95: 'Schipperke', 96: 'Scotch_Terrier',\n",
        "             97: 'Scottish_Deerhound', 98: 'Sealyham_Terrier', 99: 'Shetland_Sheepdog', 100: 'Shih-Tzu',\n",
        "             101: 'Siberian_Husky', 102: 'Silky_Terrier', 103: 'Soft-Coated_Wheaten_Terrier',\n",
        "             104: 'Staffordshire_Bullterrier', 105: 'Standard_Poodle', 106: 'Standard_Schnauzer', 107: 'Sussex_Spaniel',\n",
        "             108: 'Tibetan_Mastiff', 109: 'Tibetan_Terrier', 110: 'Toy_Poodle', 111: 'Toy_Terrier', 112: 'Vizsla',\n",
        "             113: 'Walker_Hound', 114: 'Weimaraner', 115: 'Welsh_Springer_Spaniel', 116: 'West_Highland_White_Terrier',\n",
        "             117: 'Whippet', 118: 'Wire-Haired_Fox_Terrier', 119: 'Yorkshire_Terrier'}\n",
        "\n",
        "    return dict1[prediction]\n",
        "\n",
        "\n",
        "def predict():\n",
        "    # Set image and model path\n",
        "    path = 'predict.jpg'\n",
        "    MODEL_NAME = 'keras.h5'\n",
        "    IMG_SIZE = 299\n",
        "\n",
        "    image = cv2.imread(path, -1)\n",
        "    image = cv2.cvtColor(image, cv2.COLOR_BGR2RGB)\n",
        "    image = cv2.resize(image, (IMG_SIZE, IMG_SIZE))\n",
        "    image = image / 255.\n",
        "    image = np.reshape(image, (1, IMG_SIZE, IMG_SIZE, 3))\n",
        "\n",
        "    model = load_model(MODEL_NAME)\n",
        "\n",
        "    pred = model.predict([image], verbose=1)\n",
        "    ans = np.argmax(pred)\n",
        "    per = pred[0][ans]\n",
        "    per = per*100\n",
        "    breed = decode_predictions(ans)\n",
        "\n",
        "    return breed, per"
      ],
      "execution_count": 0,
      "outputs": []
    }
  ]
}